{
  "cells": [
    {
      "cell_type": "markdown",
      "metadata": {
        "id": "sw2HpSOGJHGk"
      },
      "source": [
        "## Utils"
      ]
    },
    {
      "cell_type": "code",
      "execution_count": null,
      "metadata": {
        "id": "UevqwQIGHj9T"
      },
      "outputs": [],
      "source": [
        "#taken from this StackOverflow answer: https://stackoverflow.com/a/39225039\n",
        "import requests\n",
        "\n",
        "def download_file_from_google_drive(id, destination):\n",
        "    URL = \"https://docs.google.com/uc?export=download\"\n",
        "\n",
        "    session = requests.Session()\n",
        "\n",
        "    response = session.get(URL, params = { 'id' : id }, stream = True)\n",
        "    token = get_confirm_token(response)\n",
        "\n",
        "    if token:\n",
        "        params = { 'id' : id, 'confirm' : token }\n",
        "        response = session.get(URL, params = params, stream = True)\n",
        "\n",
        "    save_response_content(response, destination)    \n",
        "\n",
        "def get_confirm_token(response):\n",
        "    for key, value in response.cookies.items():\n",
        "        if key.startswith('download_warning'):\n",
        "            return value\n",
        "\n",
        "    return None\n",
        "\n",
        "def save_response_content(response, destination):\n",
        "    CHUNK_SIZE = 32768\n",
        "\n",
        "    with open(destination, \"wb\") as f:\n",
        "        for chunk in response.iter_content(CHUNK_SIZE):\n",
        "            if chunk: # filter out keep-alive new chunks\n",
        "                f.write(chunk)\n",
        "\n",
        "file_id = '1-koULT_rZz1E6VJJVYa-hnLXdy6XSZe2'\n",
        "destination = '/content/data.zip'\n",
        "download_file_from_google_drive(file_id, destination)"
      ]
    },
    {
      "cell_type": "code",
      "execution_count": null,
      "metadata": {
        "colab": {
          "base_uri": "https://localhost:8080/"
        },
        "id": "KnAra10oI-Jw",
        "outputId": "da9f7da3-df69-4e8d-f360-a864dd54cde2"
      },
      "outputs": [
        {
          "name": "stdout",
          "output_type": "stream",
          "text": [
            "unzip:  cannot find or open data.zip, data.zip.zip or data.zip.ZIP.\n"
          ]
        }
      ],
      "source": [
        "!unzip -q data.zip\n",
        "!rm -rf data.zip"
      ]
    },
    {
      "cell_type": "markdown",
      "metadata": {
        "id": "rnPZVEX8JBph"
      },
      "source": [
        "# Regression with RANSAC for Robust curve fitting (2 mark)"
      ]
    },
    {
      "cell_type": "markdown",
      "metadata": {
        "id": "i7iiCqNk6FWG"
      },
      "source": [
        "For a given polynomial, \\\\\n",
        "$$y_{i}=\\beta_{0}+\\beta_{1} x_{i}+\\beta_{2} x_{i}^{2}+\\cdots+\\beta_{m} x_{i}^{m}+\\varepsilon_{i}(i=1,2, \\ldots, n)$$\n",
        "\n",
        "we can express it in a form of matrix $\\mathbf{X}$, a response vector or $\\vec{y}$, a parameter vector $\\vec{\\beta}$, and a vector $\\vec{\\varepsilon}$ of random errors. The model can be represented as system of linear equations, i.e.\n",
        "\n",
        "\n",
        "\n",
        "$$\\left[\\begin{array}{c}y_{1} \\\\ y_{2} \\\\ y_{3} \\\\ \\vdots \\\\ y_{n}\\end{array}\\right]=\\left[\\begin{array}{ccccc}1 & x_{1} & x_{1}^{2} & \\ldots & x_{1}^{m} \\\\ 1 & x_{2} & x_{2}^{2} & \\ldots & x_{2}^{m} \\\\ 1 & x_{3} & x_{3}^{2} & \\ldots & x_{3}^{m} \\\\ \\vdots & \\vdots & \\vdots & \\ddots & \\vdots \\\\ 1 & x_{n} & x_{n}^{2} & \\ldots & x_{n}^{m}\\end{array}\\right]\\left[\\begin{array}{c}\\beta_{0} \\\\ \\beta_{1} \\\\ \\beta_{2} \\\\ \\vdots \\\\ \\beta_{m}\\end{array}\\right]+\\left[\\begin{array}{c}\\varepsilon_{1} \\\\ \\varepsilon_{2} \\\\ \\varepsilon_{3} \\\\ \\vdots \\\\ \\varepsilon_{n}\\end{array}\\right]$$\n",
        "\n",
        "$$or$$\n",
        "\n",
        "$$\\vec{y}=\\mathbf{X} \\vec{\\beta}+\\vec{\\varepsilon}$$\n",
        "\n",
        "For this system, we can calculate $\\vec{\\beta}$ by using the following formula,\n",
        "$$\n",
        "\\widehat{\\vec{\\beta}}=\\left(\\mathbf{X}^{\\top} \\mathbf{X}\\right)^{-1} \\mathbf{X}^{\\top} \\vec{y}\n",
        "$$\n",
        "\n",
        "Using **RANSAC**, we want to avoid outliers in our curve fitting, and thus we will calculate multiple $\\vec{\\beta_i}$s using a set of datapoints. After calculating several $\\vec{\\beta_i}$ we will find the best value of ${\\beta}$ using _least squares_."
      ]
    },
    {
      "cell_type": "code",
      "execution_count": null,
      "metadata": {
        "id": "YLaTPzG6azrs"
      },
      "outputs": [],
      "source": [
        "import numpy as np\n",
        "import pandas as pd\n",
        "import math\n",
        "import matplotlib.pyplot as plt\n",
        "\n",
        "data_O2 = pd.read_csv(\"2nd_order.csv\")\n",
        "data_O3 = pd.read_csv(\"3rd_order.csv\")\n",
        "data_O4 = pd.read_csv(\"4th_order.csv\")\n",
        "\n",
        "# Calculating Beta to find the best fit in the given sample of data points.\n",
        "class get_model:\n",
        "    def fit(self, X, Y): #B (beta) = (inv(X'X)).(X'Y)\n",
        "        X_T = X.transpose()\n",
        "        Beta = (np.linalg.inv(X_T.dot(X))).dot(X_T.dot(Y))  \n",
        "        return Beta\n",
        "\n",
        "class Regression:\n",
        "    def __init__(self,order,bias=True):\n",
        "        \"\"\"\n",
        "        Initialize regressor\n",
        "        :param order: order of the polynomial\n",
        "        :param bias: boolean, True for our case\n",
        "        \"\"\"\n",
        "\n",
        "        self.order = order\n",
        "        self.bias = bias\n",
        "\n",
        "        self.beta = np.zeros(order + bias)\n",
        "\n",
        "    \n",
        "    def solve(self,x,y,n):\n",
        "        '''\n",
        "        # For 1.5 marks\n",
        "        Function to solve regression using RANSAC\n",
        "        :param x: input\n",
        "        :param y: output\n",
        "        :param n: number of dataset per iteration\n",
        "        :param iterations: number of iterations to find best beta \n",
        "        '''\n",
        "        ## TODO\n",
        "        \n",
        "        threshold_lim = np.std(y)/5 # setting the threshold as 1/5th of the std deviation of y values after trying different percentage of the standard deviation and finding the best fit.\n",
        "        max_inliers_overall = 0\n",
        "        BestModel = None\n",
        "\n",
        "        itr = 0\n",
        "        sample_size = n\n",
        "\n",
        "        Data_Overall = np.column_stack((x,y)) \n",
        "        DataSize = len(Data_Overall)\n",
        "        iterations=10000\n",
        "\n",
        "        # iterate for till the max iterations count\n",
        "        for itr in range(iterations):\n",
        "\n",
        "            # shuffle the entire data and take the first n entires of that data into the current sample\n",
        "            np.random.shuffle(Data_Overall)\n",
        "            curr_sample = Data_Overall[:sample_size, :]\n",
        "            curr_model = get_model()\n",
        "            try:\n",
        "                estimated_model = curr_model.fit(curr_sample[:,:-1], curr_sample[:, -1:]) # fit the model on the current sample of n datapoints\n",
        "                # count the number of datapoints lying within the threshold_lim\n",
        "                y_hat = x.dot(estimated_model)\n",
        "                sq_error = np.abs(np.square(y - y_hat.T))\n",
        "                num_inliers = np.count_nonzero(sq_error < threshold_lim)\n",
        "\n",
        "                # if the current number of inliers is more than the max inliers so far, then set the max inliers so far = current inliers count and set the best model to the current model\n",
        "                if num_inliers > max_inliers_overall:\n",
        "                    BestModel = estimated_model\n",
        "                    max_inliers_overall = num_inliers\n",
        "            except:\n",
        "                pass\n",
        "\n",
        "        ####\n",
        "        # this is the best model obtained so far\n",
        "        self.beta = BestModel\n",
        "        return BestModel\n",
        "\n",
        "    def get_func(self, coeff, x_value, y_value, order):\n",
        "        for i in range(order+1):\n",
        "          y_value += coeff[i]*(x_value**(order-i))\n",
        "        return y_value\n",
        "\n",
        "    def visualize(self,x,y,show=False):\n",
        "        '''\n",
        "        # For 0.5 marks\n",
        "        function to visualize datapoints and optimal solution.\n",
        "        '''\n",
        "        # TODO\n",
        "        coeff = self.beta\n",
        "        order = self.order\n",
        "        plt.figure(figsize =(10, 10))\n",
        "        plt.scatter(x, y)\n",
        "        x_func = np.linspace(x.min(),x.max(),100)\n",
        "        y_func = np.zeros(len(x_func))\n",
        "        y_func = self.get_func(coeff, x_func, y_func, self.order)\n",
        "        plt.plot(x_func, y_func)\n",
        "\n",
        "        ####\n",
        "        if show:\n",
        "            plt.show()\n",
        "        return plt\n"
      ]
    },
    {
      "cell_type": "markdown",
      "metadata": {
        "id": "Kg39Ez-ELyIC"
      },
      "source": [
        "## Solve and Visualize for 2nd Order (1.5 mark)\n",
        "\n",
        "Load the dataset, solve the regression, and finally report the coeffecients, with best least square error. Also visualize it on graph."
      ]
    },
    {
      "cell_type": "code",
      "execution_count": null,
      "metadata": {
        "colab": {
          "base_uri": "https://localhost:8080/"
        },
        "id": "w22oHuxQLwiK",
        "outputId": "13b9b66f-3b3f-44f2-fd69-5409db98a28f"
      },
      "outputs": [
        {
          "data": {
            "text/plain": [
              "array([[3.08132126],\n",
              "       [2.14829886],\n",
              "       [1.00311479]])"
            ]
          },
          "execution_count": 68,
          "metadata": {},
          "output_type": "execute_result"
        }
      ],
      "source": [
        "order = 2\n",
        "model = Regression(order)\n",
        "x = np.array(data_O2['x'])\n",
        "x_square = np.power(x,2)\n",
        "#printing the coefficents that give the best least square error\n",
        "x = np.stack((x_square, x, np.ones((len(x)), dtype = int)), axis = 1)\n",
        "model.solve(x,np.array(data_O2['y']),order*2)"
      ]
    },
    {
      "cell_type": "code",
      "execution_count": null,
      "metadata": {
        "colab": {
          "base_uri": "https://localhost:8080/",
          "height": 609
        },
        "id": "Cu-mUAFAlbwA",
        "outputId": "d6eaecc6-e398-4eba-bcfa-626b088d983b"
      },
      "outputs": [
        {
          "data": {
            "image/png": "[encoded data removed]",
            "text/plain": [
              "<Figure size 720x720 with 1 Axes>"
            ]
          },
          "metadata": {
            "needs_background": "light"
          },
          "output_type": "display_data"
        },
        {
          "data": {
            "text/plain": [
              "<module 'matplotlib.pyplot' from '/usr/local/lib/python3.7/dist-packages/matplotlib/pyplot.py'>"
            ]
          },
          "execution_count": 69,
          "metadata": {},
          "output_type": "execute_result"
        }
      ],
      "source": [
        "model.visualize(data_O2['x'], data_O2['y'], True)"
      ]
    },
    {
      "cell_type": "markdown",
      "metadata": {
        "id": "eqG85M14L2IJ"
      },
      "source": [
        "## Solve and Visualize for 3rd Order (1.5 mark)"
      ]
    },
    {
      "cell_type": "code",
      "execution_count": null,
      "metadata": {
        "colab": {
          "base_uri": "https://localhost:8080/"
        },
        "id": "8RIsA7kCLvWa",
        "outputId": "8b228653-2b2c-4b9f-bc76-d47c1f94e388"
      },
      "outputs": [
        {
          "data": {
            "text/plain": [
              "array([[3.75412013],\n",
              "       [2.86482491],\n",
              "       [2.03941289],\n",
              "       [0.9463567 ]])"
            ]
          },
          "execution_count": 70,
          "metadata": {},
          "output_type": "execute_result"
        }
      ],
      "source": [
        "order = 3\n",
        "model = Regression(order)\n",
        "x = np.array(data_O3['x'])\n",
        "y = np.array(data_O3['y'])\n",
        "x_cube = np.power(x,3)\n",
        "x_square = np.power(x,2)\n",
        "#printing the coefficents that give the best least square error\n",
        "x_func = np.stack((x_cube, x_square, x, np.ones((len(x)), dtype = int)), axis = 1)\n",
        "model.solve(x_func,y,order*2)"
      ]
    },
    {
      "cell_type": "code",
      "execution_count": null,
      "metadata": {
        "colab": {
          "base_uri": "https://localhost:8080/",
          "height": 609
        },
        "id": "NOZQzYeYl_Sw",
        "outputId": "4e3c56a3-3828-4e70-c585-5ca8abff2be3"
      },
      "outputs": [
        {
          "data": {
            "image/png": "[encoded data removed]",
            "text/plain": [
              "<Figure size 720x720 with 1 Axes>"
            ]
          },
          "metadata": {
            "needs_background": "light"
          },
          "output_type": "display_data"
        },
        {
          "data": {
            "text/plain": [
              "<module 'matplotlib.pyplot' from '/usr/local/lib/python3.7/dist-packages/matplotlib/pyplot.py'>"
            ]
          },
          "execution_count": 71,
          "metadata": {},
          "output_type": "execute_result"
        }
      ],
      "source": [
        "model.visualize(x, y, True)"
      ]
    },
    {
      "cell_type": "markdown",
      "metadata": {
        "id": "oHL574H8L6mQ"
      },
      "source": [
        "## Solve and Visualize for 4th Order (1.5 mark)"
      ]
    },
    {
      "cell_type": "code",
      "execution_count": null,
      "metadata": {
        "colab": {
          "base_uri": "https://localhost:8080/"
        },
        "id": "8QyCw3bkL7o9",
        "outputId": "6aec29b4-195b-4bbc-c27f-58efd2c0c603"
      },
      "outputs": [
        {
          "data": {
            "text/plain": [
              "array([[4.78812539],\n",
              "       [3.20754131],\n",
              "       [2.92028799],\n",
              "       [2.17607008],\n",
              "       [0.80139845]])"
            ]
          },
          "execution_count": 72,
          "metadata": {},
          "output_type": "execute_result"
        }
      ],
      "source": [
        "order = 4\n",
        "model = Regression(order)\n",
        "x = np.array(data_O4['x'])\n",
        "y = np.array(data_O4['y'])\n",
        "x_four = np.power(x,4)\n",
        "x_cube = np.power(x,3)\n",
        "x_square = np.power(x,2)\n",
        "#printing the coefficents that give the best least square error\n",
        "x_func = np.stack((x_four, x_cube, x_square, x, np.ones((len(x)), dtype = int)), axis = 1)\n",
        "model.solve(x_func,y,order)"
      ]
    },
    {
      "cell_type": "code",
      "execution_count": null,
      "metadata": {
        "colab": {
          "base_uri": "https://localhost:8080/",
          "height": 592
        },
        "id": "kIH5HwNtmIXO",
        "outputId": "4a358b52-92e0-4c6d-a839-9de26b3cc03b"
      },
      "outputs": [
        {
          "data": {
            "image/png": "[encoded data removed]",
            "text/plain": [
              "<Figure size 720x720 with 1 Axes>"
            ]
          },
          "metadata": {
            "needs_background": "light"
          },
          "output_type": "display_data"
        }
      ],
      "source": [
        "plot_4 = model.visualize(x, y, True)"
      ]
    }
  ],
  "metadata": {
    "colab": {
      "collapsed_sections": [
        "sw2HpSOGJHGk"
      ],
      "name": "19110207_Assignment4.ipynb",
      "provenance": []
    },
    "kernelspec": {
      "display_name": "Python 3.7.4 ('base')",
      "language": "python",
      "name": "python3"
    },
    "language_info": {
      "name": "python",
      "version": "3.7.4"
    },
    "vscode": {
      "interpreter": {
        "hash": "06efb3b6ec1a0c028e5f9b6c98d3c1ec2f94b160593e3f3e5888eb026ccc3470"
      }
    }
  },
  "nbformat": 4,
  "nbformat_minor": 0
}
